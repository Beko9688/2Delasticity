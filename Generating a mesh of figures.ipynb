{
 "cells": [
  {
   "cell_type": "markdown",
   "id": "6b4e4922",
   "metadata": {},
   "source": [
    "# Generating mesh files\n",
    "\n",
    "## Rectangular form"
   ]
  },
  {
   "cell_type": "code",
   "execution_count": null,
   "id": "80189407",
   "metadata": {},
   "outputs": [],
   "source": [
    "import dolfin as dl\n",
    "import mshr\n",
    "\n",
    "# Определите размеры прямоугольника\n",
    "print(\"Определение прямоугольной формы >>\")\n",
    "length = float(input(\"Длина: \"))\n",
    "width = float(input(\"Ширина: \"))\n",
    "\n",
    "# Создайте прямоугольный область\n",
    "domain = mshr.Rectangle(dl.Point(-length/2, -width/2), dl.Point(length/2, width/2))\n",
    "\n",
    "# Генерация mesh\n",
    "mesh_resolution = float(input(\"Размерность сетки: \"))\n",
    "mesh = mshr.generate_mesh(domain, mesh_resolution)\n",
    "\n",
    "# Сохранить mesh в XML формате\n",
    "mesh_file = dl.File(\"rectangle_mesh.xml\")\n",
    "mesh_file << mesh\n",
    "print(\"Успешно создан файл rectangle_mesh.xml\")"
   ]
  },
  {
   "cell_type": "markdown",
   "id": "386e5bcb",
   "metadata": {},
   "source": [
    "\n",
    "## Circular form"
   ]
  },
  {
   "cell_type": "code",
   "execution_count": null,
   "id": "4e559b6a",
   "metadata": {},
   "outputs": [],
   "source": [
    "import dolfin as dl\n",
    "import mshr\n",
    "\n",
    "# Определение окружной формы\n",
    "print(\"Определение окружной формы >>\")\n",
    "radius = float(input(\"Радиус: \"))\n",
    "x = float(input(\"X координата центра: \"))\n",
    "y = float(input(\"Y координата центра: \"))\n",
    "center = dl.Point(x, y)\n",
    "domain = mshr.Circle(center, radius)\n",
    "\n",
    "# Генерация mesh\n",
    "mesh_resolution = float(input(\"Размерность сетки: \"))\n",
    "mesh = mshr.generate_mesh(domain, mesh_resolution)\n",
    "\n",
    "# Сохранить mesh в XML формате\n",
    "mesh_file = dl.File(\"circle_mesh.xml\")\n",
    "mesh_file << mesh\n",
    "print(\"Успешно создан файл circle_mesh.xml\")"
   ]
  },
  {
   "cell_type": "markdown",
   "id": "fd0fb4af",
   "metadata": {},
   "source": [
    "\n",
    "## Mixing form (circular and rectangular)"
   ]
  },
  {
   "cell_type": "code",
   "execution_count": null,
   "id": "beb69785",
   "metadata": {},
   "outputs": [],
   "source": [
    "import dolfin as dl\n",
    "import mshr\n",
    "\n",
    "\n",
    "# Определение прямоугольной формы\n",
    "print(\"Определение прямоугольной формы >>\")\n",
    "bx = float(input(\"X координата нижнего левого угла: \"))\n",
    "by = float(input(\"Y координата нижнего левого угла: \"))\n",
    "tx = float(input(\"X координата ввернего правого угла: \"))\n",
    "ty = float(input(\"Y координата ввернего правого угла: \"))\n",
    "rectangle = mshr.Rectangle(dl.Point(bx, by), dl.Point(tx, ty))\n",
    "\n",
    "# Определение окружной формы\n",
    "print(\"Определение окружной формы >>\")\n",
    "r = float(input(\"X координата окружности: \"))\n",
    "cx = float(input(\"Y координата окружности: \"))\n",
    "cy = float(input(\"Радиус окружности: \"))\n",
    "circle = mshr.Circle(dl.Point(cx, cy), r)\n",
    "\n",
    "# Область объединие прямоугольник и круг\n",
    "domain = rectangle - circle\n",
    "\n",
    "# Генерация mesh\n",
    "mesh_resolution = float(input(\"Размерность сетки: \"))\n",
    "mesh = mshr.generate_mesh(domain, mesh_resolution)\n",
    "\n",
    "# Сохранить mesh в XML формате\n",
    "mesh_file = dl.File(\"domain_mesh.xml\")\n",
    "mesh_file << mesh  \n",
    "print(\"Успешно создан файл domain_mesh.xml\")"
   ]
  }
 ],
 "metadata": {
  "kernelspec": {
   "display_name": "Python 3",
   "language": "python",
   "name": "python3"
  }
 },
 "nbformat": 4,
 "nbformat_minor": 5
}
